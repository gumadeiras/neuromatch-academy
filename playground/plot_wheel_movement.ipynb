{
 "cells": [
  {
   "cell_type": "markdown",
   "metadata": {},
   "source": [
    "dat['mouse_name']: mouse name\n",
    "\n",
    "dat['date_exp']: when a session was performed\n",
    "\n",
    "dat['spks']: neurons by trials by time bins.\n",
    "\n",
    "dat['brain_area']: brain area for each neuron recorded.\n",
    "\n",
    "dat['contrast_right']: contrast level for the right stimulus, which is always contralateral to the recorded brain areas.\n",
    "\n",
    "dat['contrast_left']: contrast level for left stimulus.\n",
    "\n",
    "dat['gocue']: when the go cue sound was played.\n",
    "\n",
    "dat['response_times']: when the response was registered, which has to be after the go cue. The mouse can turn the wheel before the go cue (and nearly always does!), but the stimulus on the screen won't move before the go cue.\n",
    "\n",
    "dat['response']: which side the response was (-1, 0, 1). When the right-side stimulus had higher contrast, the correct choice was -1. 0 is a no go response.\n",
    "\n",
    "dat['feedback_time']: when feedback was provided.\n",
    "\n",
    "dat['feedback_type']: if the feedback was positive (+1, reward) or negative (-1, white noise burst).\n",
    "\n",
    "dat['wheel']: exact position of the wheel that the mice uses to make a response, binned at 10ms.\n",
    "\n",
    "dat['pupil']: pupil area (noisy, because pupil is very small) + pupil horizontal and vertical position.\n",
    "\n",
    "dat['lfp']: recording of the local field potential in each brain area from this experiment, binned at 10ms.\n",
    "\n",
    "dat['brain_area_lfp']: brain area names for the LFP channels.\n",
    "\n",
    "dat['trough_to_peak']: measures the width of the action potential waveform for each neuron. Widths <=10 samples are \"putative fast spiking neurons\".\n",
    "\n",
    "dat['waveform_w']: temporal components of spike waveforms. w@u reconstructs the time by channels action potential shape.\n",
    "\n",
    "dat['waveform_u]: spatial components of spike waveforms.\n",
    "\n",
    "dat['%X%_passive']: same as above for X = {spks, lfp, pupil, wheel, contrast_left, contrast_right} but for passive trials at the end of the recording when the mouse was no longer engaged and stopped making responses."
   ]
  },
  {
   "cell_type": "code",
   "execution_count": 1,
   "metadata": {
    "ExecuteTime": {
     "end_time": "2020-07-26T19:57:02.780059Z",
     "start_time": "2020-07-26T19:57:02.332998Z"
    }
   },
   "outputs": [],
   "source": [
    "import numpy as np\n",
    "import matplotlib.pyplot as plt\n",
    "\n",
    "import sys\n",
    "sys.path.append('../')\n",
    "from functions.plotting import *\n",
    "from functions.filtering import *"
   ]
  },
  {
   "cell_type": "code",
   "execution_count": 2,
   "metadata": {
    "ExecuteTime": {
     "end_time": "2020-07-26T19:57:41.746458Z",
     "start_time": "2020-07-26T19:57:03.404717Z"
    }
   },
   "outputs": [
    {
     "name": "stdout",
     "output_type": "stream",
     "text": [
      "number of recordings: (39,)\n"
     ]
    }
   ],
   "source": [
    "# load data from steinmetz dir\n",
    "alldat = np.load('../steinmetz/steinmetz_part0.npz', allow_pickle=True)['dat']\n",
    "alldat = np.hstack((alldat, np.load('../steinmetz/steinmetz_part1.npz', allow_pickle=True)['dat']))\n",
    "alldat = np.hstack((alldat, np.load('../steinmetz/steinmetz_part2.npz', allow_pickle=True)['dat']))\n",
    "print(f\"number of recordings: {alldat.shape}\")"
   ]
  },
  {
   "cell_type": "code",
   "execution_count": 3,
   "metadata": {
    "ExecuteTime": {
     "end_time": "2020-07-26T19:57:50.827721Z",
     "start_time": "2020-07-26T19:57:50.824190Z"
    },
    "scrolled": true
   },
   "outputs": [],
   "source": [
    "wheel_to_mm = 0.135"
   ]
  },
  {
   "cell_type": "code",
   "execution_count": 7,
   "metadata": {
    "ExecuteTime": {
     "end_time": "2020-07-26T20:07:06.207565Z",
     "start_time": "2020-07-26T20:07:06.199553Z"
    },
    "scrolled": true
   },
   "outputs": [
    {
     "name": "stdout",
     "output_type": "stream",
     "text": [
      "(1, 214, 250)\n",
      "(1, 251, 250)\n",
      "(1, 228, 250)\n",
      "(1, 249, 250)\n",
      "(1, 254, 250)\n",
      "(1, 290, 250)\n",
      "(1, 252, 250)\n",
      "(1, 250, 250)\n",
      "(1, 372, 250)\n",
      "(1, 447, 250)\n",
      "(1, 342, 250)\n",
      "(1, 340, 250)\n",
      "(1, 300, 250)\n",
      "(1, 268, 250)\n",
      "(1, 404, 250)\n",
      "(1, 280, 250)\n",
      "(1, 224, 250)\n",
      "(1, 316, 250)\n",
      "(1, 247, 250)\n",
      "(1, 235, 250)\n",
      "(1, 124, 250)\n",
      "(1, 444, 250)\n",
      "(1, 151, 250)\n",
      "(1, 187, 250)\n",
      "(1, 261, 250)\n",
      "(1, 178, 250)\n",
      "(1, 253, 250)\n",
      "(1, 142, 250)\n",
      "(1, 128, 250)\n",
      "(1, 143, 250)\n",
      "(1, 237, 250)\n",
      "(1, 260, 250)\n",
      "(1, 191, 250)\n",
      "(1, 296, 250)\n",
      "(1, 311, 250)\n",
      "(1, 258, 250)\n",
      "(1, 181, 250)\n",
      "(1, 199, 250)\n",
      "(1, 343, 250)\n"
     ]
    }
   ],
   "source": [
    "region = 'ZI'\n",
    "for dat in alldat:\n",
    "    wheel_act = dat['wheel']\n",
    "    for trial in wheel_act"
   ]
  },
  {
   "cell_type": "code",
   "execution_count": 9,
   "metadata": {
    "ExecuteTime": {
     "end_time": "2020-07-26T20:08:15.829792Z",
     "start_time": "2020-07-26T20:08:15.822563Z"
    }
   },
   "outputs": [
    {
     "data": {
      "text/plain": [
       "(1, 343, 250)"
      ]
     },
     "execution_count": 9,
     "metadata": {},
     "output_type": "execute_result"
    }
   ],
   "source": [
    "dat['wheel'].shape"
   ]
  },
  {
   "cell_type": "code",
   "execution_count": null,
   "metadata": {},
   "outputs": [],
   "source": []
  },
  {
   "cell_type": "code",
   "execution_count": null,
   "metadata": {},
   "outputs": [],
   "source": []
  },
  {
   "cell_type": "code",
   "execution_count": null,
   "metadata": {},
   "outputs": [],
   "source": []
  },
  {
   "cell_type": "code",
   "execution_count": null,
   "metadata": {},
   "outputs": [],
   "source": []
  },
  {
   "cell_type": "code",
   "execution_count": null,
   "metadata": {},
   "outputs": [],
   "source": []
  }
 ],
 "metadata": {
  "kernelspec": {
   "display_name": "Python 3",
   "language": "python",
   "name": "python3"
  },
  "language_info": {
   "codemirror_mode": {
    "name": "ipython",
    "version": 3
   },
   "file_extension": ".py",
   "mimetype": "text/x-python",
   "name": "python",
   "nbconvert_exporter": "python",
   "pygments_lexer": "ipython3",
   "version": "3.7.0"
  },
  "varInspector": {
   "cols": {
    "lenName": 16,
    "lenType": 16,
    "lenVar": 40
   },
   "kernels_config": {
    "python": {
     "delete_cmd_postfix": "",
     "delete_cmd_prefix": "del ",
     "library": "var_list.py",
     "varRefreshCmd": "print(var_dic_list())"
    },
    "r": {
     "delete_cmd_postfix": ") ",
     "delete_cmd_prefix": "rm(",
     "library": "var_list.r",
     "varRefreshCmd": "cat(var_dic_list()) "
    }
   },
   "types_to_exclude": [
    "module",
    "function",
    "builtin_function_or_method",
    "instance",
    "_Feature"
   ],
   "window_display": false
  }
 },
 "nbformat": 4,
 "nbformat_minor": 4
}
