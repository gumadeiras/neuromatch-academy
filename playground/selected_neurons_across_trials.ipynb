{
 "cells": [
  {
   "cell_type": "code",
   "execution_count": 1,
   "metadata": {
    "ExecuteTime": {
     "end_time": "2020-07-30T01:37:58.052031Z",
     "start_time": "2020-07-30T01:37:56.697803Z"
    }
   },
   "outputs": [],
   "source": [
    "import numpy as np\n",
    "import matplotlib.pyplot as plt\n",
    "import pandas as pd\n",
    "\n",
    "import sys\n",
    "sys.path.append('../')\n",
    "from functions.plotting import *\n",
    "from functions.filtering import *"
   ]
  },
  {
   "cell_type": "code",
   "execution_count": 2,
   "metadata": {
    "ExecuteTime": {
     "end_time": "2020-07-30T01:38:53.655798Z",
     "start_time": "2020-07-30T01:38:07.096280Z"
    }
   },
   "outputs": [
    {
     "name": "stdout",
     "output_type": "stream",
     "text": [
      "number of recordings: (39,)\n"
     ]
    }
   ],
   "source": [
    "# load data from steinmetz dir\n",
    "alldat = np.load('../steinmetz/steinmetz_part0.npz', allow_pickle=True)['dat']\n",
    "alldat = np.hstack((alldat, np.load('../steinmetz/steinmetz_part1.npz', allow_pickle=True)['dat']))\n",
    "alldat = np.hstack((alldat, np.load('../steinmetz/steinmetz_part2.npz', allow_pickle=True)['dat']))\n",
    "print(f\"number of recordings: {alldat.shape}\")"
   ]
  },
  {
   "cell_type": "code",
   "execution_count": 3,
   "metadata": {
    "ExecuteTime": {
     "end_time": "2020-07-30T01:38:56.703370Z",
     "start_time": "2020-07-30T01:38:56.697301Z"
    }
   },
   "outputs": [],
   "source": [
    "# focus on visual neurons\n",
    "visp = \"VISp\""
   ]
  },
  {
   "cell_type": "code",
   "execution_count": 4,
   "metadata": {
    "ExecuteTime": {
     "end_time": "2020-07-30T01:38:59.978440Z",
     "start_time": "2020-07-30T01:38:59.730529Z"
    }
   },
   "outputs": [
    {
     "name": "stdout",
     "output_type": "stream",
     "text": [
      "full contrast right\n",
      "[('VISp', 178)]\n",
      "[('VISp', 114)]\n",
      "[('VISp', 39)]\n",
      "[('VISp', 48)]\n",
      "[('VISp', 105)]\n",
      "[('VISp', 66)]\n",
      "[('VISp', 42)]\n",
      "[('VISp', 122)]\n",
      "[('VISp', 133)]\n",
      "[('VISp', 94)]\n",
      "[('VISp', 162)]\n",
      "[('VISp', 15)]\n",
      "full contrast left\n",
      "[('VISp', 178)]\n",
      "[('VISp', 114)]\n",
      "[('VISp', 39)]\n",
      "[('VISp', 48)]\n",
      "[('VISp', 105)]\n",
      "[('VISp', 66)]\n",
      "[('VISp', 42)]\n",
      "[('VISp', 122)]\n",
      "[('VISp', 133)]\n",
      "[('VISp', 94)]\n",
      "[('VISp', 162)]\n",
      "[('VISp', 15)]\n"
     ]
    }
   ],
   "source": [
    "full_right, full_right_idx = filter_contralateral_trials_full_contrast(alldat, visp, c_left=0, c_right=1)\n",
    "full_left, full_left_idx = filter_contralateral_trials_full_contrast(alldat, visp, c_left=1, c_right=0)\n",
    "\n",
    "print(\"full contrast right\")\n",
    "for recording in full_right:\n",
    "    regions, counts = np.unique(recording[2], return_counts=True)\n",
    "    print(list(zip(regions, counts)))\n",
    "\n",
    "print(\"full contrast left\")\n",
    "for recording in full_left:\n",
    "    regions, counts = np.unique(recording[2], return_counts=True)\n",
    "    print(list(zip(regions, counts)))"
   ]
  },
  {
   "cell_type": "code",
   "execution_count": 5,
   "metadata": {
    "ExecuteTime": {
     "end_time": "2020-07-30T01:39:02.671877Z",
     "start_time": "2020-07-30T01:39:02.666801Z"
    }
   },
   "outputs": [],
   "source": [
    "# within data structure:\n",
    "# 0: mouse_name\n",
    "# 1: mouse_spikes\n",
    "# 2: mouse_regions\n",
    "# 3: mouse_gocue\n",
    "# 4: mouse_resptime\n",
    "# 5: mouse_wheel\n",
    "# 6: mouse_feedback\n",
    "# 7: mouse_response"
   ]
  },
  {
   "cell_type": "code",
   "execution_count": null,
   "metadata": {
    "ExecuteTime": {
     "end_time": "2020-07-30T01:41:32.171029Z",
     "start_time": "2020-07-30T01:41:32.160978Z"
    }
   },
   "outputs": [],
   "source": [
    "# combine data for one region\n",
    "\n",
    "# for idx, dat in enumerate(data_by_region):\n",
    "idx = 0\n",
    "dat = data_by_region[idx]\n",
    "\n",
    "region = visp[idx]\n",
    "# combine data for this region\n",
    "combined_spks = []\n",
    "combined_rsps = []\n",
    "combined_rgs = []\n",
    "for recording in dat:\n",
    "    combined_spks.append(recording[1])\n",
    "    combined_rsps.append(recording[7])\n",
    "    combined_rgs.append(recording[2])\n",
    "combined_spks = np.asarray(combined_spks)\n",
    "combined_rsps = np.asarray(combined_rsps)\n",
    "combined_rgs = np.asarray(combined_rgs)\n",
    "\n",
    "# stack all trials togethers\n",
    "combined_neurons = []\n",
    "for dts in combined_spks:\n",
    "    combined_neurons.append(np.vstack(dts))\n",
    "combined_neurons = np.asarray(combined_neurons)\n",
    "\n",
    "combined_responses = []\n",
    "combined_regions = []\n",
    "for i, rsp in enumerate(combined_rsps):\n",
    "    neuron_count = combined_spks[i].shape[0]\n",
    "    ext_rsps = np.tile(np.vstack(rsp), neuron_count)\n",
    "    combined_responses.append(np.hstack(np.vstack(ext_rsps).T))\n",
    "    \n",
    "    trial_count = combined_spks[i].shape[1]\n",
    "    ext_regions = np.tile(np.vstack(combined_rgs[i]), trial_count)\n",
    "    combined_regions.append(np.hstack(np.vstack(ext_regions).T))\n",
    "    \n",
    "combined_responses = np.asarray(combined_responses)\n",
    "combined_regions = np.asarray(combined_regions)"
   ]
  },
  {
   "cell_type": "code",
   "execution_count": null,
   "metadata": {},
   "outputs": [],
   "source": []
  },
  {
   "cell_type": "code",
   "execution_count": null,
   "metadata": {},
   "outputs": [],
   "source": []
  },
  {
   "cell_type": "code",
   "execution_count": null,
   "metadata": {},
   "outputs": [],
   "source": []
  },
  {
   "cell_type": "code",
   "execution_count": null,
   "metadata": {},
   "outputs": [],
   "source": []
  },
  {
   "cell_type": "code",
   "execution_count": null,
   "metadata": {},
   "outputs": [],
   "source": []
  },
  {
   "cell_type": "code",
   "execution_count": null,
   "metadata": {},
   "outputs": [],
   "source": []
  },
  {
   "cell_type": "code",
   "execution_count": null,
   "metadata": {},
   "outputs": [],
   "source": []
  },
  {
   "cell_type": "code",
   "execution_count": null,
   "metadata": {},
   "outputs": [],
   "source": []
  },
  {
   "cell_type": "code",
   "execution_count": null,
   "metadata": {},
   "outputs": [],
   "source": []
  },
  {
   "cell_type": "code",
   "execution_count": null,
   "metadata": {},
   "outputs": [],
   "source": []
  },
  {
   "cell_type": "code",
   "execution_count": null,
   "metadata": {},
   "outputs": [],
   "source": []
  },
  {
   "cell_type": "code",
   "execution_count": null,
   "metadata": {},
   "outputs": [],
   "source": []
  }
 ],
 "metadata": {
  "kernelspec": {
   "display_name": "Python 3",
   "language": "python",
   "name": "python3"
  },
  "language_info": {
   "codemirror_mode": {
    "name": "ipython",
    "version": 3
   },
   "file_extension": ".py",
   "mimetype": "text/x-python",
   "name": "python",
   "nbconvert_exporter": "python",
   "pygments_lexer": "ipython3",
   "version": "3.7.0"
  },
  "varInspector": {
   "cols": {
    "lenName": 16,
    "lenType": 16,
    "lenVar": 40
   },
   "kernels_config": {
    "python": {
     "delete_cmd_postfix": "",
     "delete_cmd_prefix": "del ",
     "library": "var_list.py",
     "varRefreshCmd": "print(var_dic_list())"
    },
    "r": {
     "delete_cmd_postfix": ") ",
     "delete_cmd_prefix": "rm(",
     "library": "var_list.r",
     "varRefreshCmd": "cat(var_dic_list()) "
    }
   },
   "types_to_exclude": [
    "module",
    "function",
    "builtin_function_or_method",
    "instance",
    "_Feature"
   ],
   "window_display": false
  }
 },
 "nbformat": 4,
 "nbformat_minor": 2
}
